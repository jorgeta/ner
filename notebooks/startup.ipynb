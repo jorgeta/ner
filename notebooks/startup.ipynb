{
 "cells": [
  {
   "cell_type": "markdown",
   "metadata": {},
   "source": [
    "# Named-entity recognition startup notebook"
   ]
  },
  {
   "cell_type": "markdown",
   "metadata": {},
   "source": [
    "### General goals\n",
    "\n",
    "Learn about NLP in general\n",
    "- Data preprocessing\n",
    "- State of the art models and how to use them\n",
    "- Error measurements in NLP\n",
    "- What is easy and hard for the model learn in NER of the given dataset"
   ]
  },
  {
   "cell_type": "markdown",
   "metadata": {},
   "source": [
    "### Tasks\n",
    "\n",
    "- Start med at forstå og installere modellerne og forstå hvordan de kan anvendes til at løse \"NER\" som et classification problem\n",
    "\n",
    "- Evaluate performance (NER classification performance, computational complexity: space and time) on the dataset (1) using models (2).\n",
    "\n",
    "(1) Dataset: UD-DDT (DaNE) ( https://github.com/alexandrainst/danlp/blob/master/docs/docs/datasets.md )\n",
    "- Annotated with PER (person), ORG (organization) and LOC (location)\n",
    "\n",
    "(2) Models ( https://github.com/alexandrainst/danlp/tree/master/danlp/models )\n",
    "- BERT NER model\n",
    "- flair_ner_model\n",
    "\n",
    "### Questions\n",
    "\n",
    "- Is the classification performance only measured in accuracy (total and per category)? Or do I look at some more fancy methods?\n",
    "- How do I measure computational space complexity?\n",
    "- Check: time complexity is prediction time as a function of the number of words/sentences/observations?"
   ]
  },
  {
   "cell_type": "code",
   "execution_count": 43,
   "metadata": {},
   "outputs": [],
   "source": [
    "from danlp.datasets import DDT\n",
    "ddt = DDT()"
   ]
  },
  {
   "cell_type": "code",
   "execution_count": 44,
   "metadata": {},
   "outputs": [],
   "source": [
    "parts = ddt.load_as_simple_ner(True)"
   ]
  },
  {
   "cell_type": "code",
   "execution_count": 6,
   "metadata": {},
   "outputs": [],
   "source": [
    "from danlp.models.bert_models import BertNer"
   ]
  },
  {
   "cell_type": "code",
   "execution_count": 8,
   "metadata": {},
   "outputs": [
    {
     "name": "stdout",
     "output_type": "stream",
     "text": [
      "Downloading file /var/folders/bd/r7xjdv5927lc2m8hkq9g_dbh0000gn/T/tmprbpw979l\n"
     ]
    }
   ],
   "source": [
    "model = BertNer()"
   ]
  },
  {
   "cell_type": "code",
   "execution_count": 45,
   "metadata": {},
   "outputs": [
    {
     "data": {
      "text/plain": [
       "['På',\n",
       " 'fredag',\n",
       " 'har',\n",
       " 'SID',\n",
       " 'inviteret',\n",
       " 'til',\n",
       " 'reception',\n",
       " 'i',\n",
       " 'SID-huset',\n",
       " 'i',\n",
       " 'anledning',\n",
       " 'af',\n",
       " 'at',\n",
       " 'formanden',\n",
       " 'Kjeld',\n",
       " 'Christensen',\n",
       " 'går',\n",
       " 'ind',\n",
       " 'i',\n",
       " 'de',\n",
       " 'glade',\n",
       " 'tressere',\n",
       " '.']"
      ]
     },
     "execution_count": 45,
     "metadata": {},
     "output_type": "execute_result"
    }
   ],
   "source": [
    "parts[0][0][0]"
   ]
  },
  {
   "cell_type": "code",
   "execution_count": 46,
   "metadata": {},
   "outputs": [
    {
     "data": {
      "text/plain": [
       "(['På',\n",
       "  'fredag',\n",
       "  'har',\n",
       "  'SID',\n",
       "  'inviteret',\n",
       "  'til',\n",
       "  'reception',\n",
       "  'i',\n",
       "  'SID-huset',\n",
       "  'i',\n",
       "  'anledning',\n",
       "  'af',\n",
       "  'at',\n",
       "  'formanden',\n",
       "  'Kjeld',\n",
       "  'Christensen',\n",
       "  'går',\n",
       "  'ind',\n",
       "  'i',\n",
       "  'de',\n",
       "  'glade',\n",
       "  'tressere',\n",
       "  '.'],\n",
       " ['O',\n",
       "  'O',\n",
       "  'O',\n",
       "  'B-ORG',\n",
       "  'O',\n",
       "  'O',\n",
       "  'O',\n",
       "  'O',\n",
       "  'B-LOC',\n",
       "  'O',\n",
       "  'O',\n",
       "  'O',\n",
       "  'O',\n",
       "  'O',\n",
       "  'B-PER',\n",
       "  'I-PER',\n",
       "  'O',\n",
       "  'O',\n",
       "  'O',\n",
       "  'O',\n",
       "  'O',\n",
       "  'O',\n",
       "  'O'])"
      ]
     },
     "execution_count": 46,
     "metadata": {},
     "output_type": "execute_result"
    }
   ],
   "source": [
    "parts[0][0][0], parts[0][1][0]"
   ]
  },
  {
   "cell_type": "code",
   "execution_count": 47,
   "metadata": {},
   "outputs": [],
   "source": [
    "modinput = parts[0][0][0]\n",
    "targs = parts[0][1][0]\n",
    "preds = model.predict(modinput)[1]"
   ]
  },
  {
   "cell_type": "code",
   "execution_count": 48,
   "metadata": {},
   "outputs": [
    {
     "name": "stdout",
     "output_type": "stream",
     "text": [
      "1.0\n"
     ]
    }
   ],
   "source": [
    "tot_words = len(preds)\n",
    "correctly_classified_words = 0\n",
    "\n",
    "for category in range(tot_words):\n",
    "    #print(preds[category], targs[category])\n",
    "    #print(preds[category]==targs[category])\n",
    "    correctly_classified_words += preds[category]==targs[category]\n",
    "    \n",
    "print(correctly_classified_words/tot_words)"
   ]
  },
  {
   "cell_type": "code",
   "execution_count": null,
   "metadata": {},
   "outputs": [],
   "source": []
  }
 ],
 "metadata": {
  "kernelspec": {
   "display_name": "Python 3",
   "language": "python",
   "name": "python3"
  },
  "language_info": {
   "codemirror_mode": {
    "name": "ipython",
    "version": 3
   },
   "file_extension": ".py",
   "mimetype": "text/x-python",
   "name": "python",
   "nbconvert_exporter": "python",
   "pygments_lexer": "ipython3",
   "version": "3.7.3"
  }
 },
 "nbformat": 4,
 "nbformat_minor": 2
}
