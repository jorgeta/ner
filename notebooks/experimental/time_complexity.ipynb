{
 "cells": [
  {
   "cell_type": "markdown",
   "metadata": {},
   "source": [
    "# Time complexity of the BERT and Flair models"
   ]
  },
  {
   "cell_type": "code",
   "execution_count": 1,
   "metadata": {},
   "outputs": [],
   "source": [
    "# general\n",
    "import numpy as np\n",
    "import time\n",
    "\n",
    "# models\n",
    "from danlp.models import load_bert_ner_model, load_flair_ner_model\n",
    "\n",
    "# dataset\n",
    "from danlp.datasets import DDT\n",
    "\n",
    "# utils\n",
    "from flair.data import Sentence, Token\n",
    "from copy import deepcopy"
   ]
  },
  {
   "cell_type": "code",
   "execution_count": 2,
   "metadata": {},
   "outputs": [
    {
     "name": "stdout",
     "output_type": "stream",
     "text": [
      "2021-01-08 21:09:43,697 loading file /Users/jorgentaule/.danlp/flair.ner.pt\n"
     ]
    }
   ],
   "source": [
    "# load models\n",
    "bert = load_bert_ner_model()\n",
    "flair = load_flair_ner_model()\n",
    "\n",
    "# get data (splitted into a training set, a validation set, and a test set)\n",
    "ddt = DDT()\n",
    "train, valid, test = ddt.load_as_simple_ner(True)"
   ]
  },
  {
   "cell_type": "code",
   "execution_count": 3,
   "metadata": {},
   "outputs": [],
   "source": [
    "# use all the data, divide into sentences and categories ('O', 'LOC', ...)\n",
    "sentences = train[0] + valid[0] + test[0]\n",
    "categories = train[1] + valid[1]+ test[1]"
   ]
  },
  {
   "cell_type": "code",
   "execution_count": 4,
   "metadata": {},
   "outputs": [
    {
     "data": {
      "text/plain": [
       "5512"
      ]
     },
     "execution_count": 4,
     "metadata": {},
     "output_type": "execute_result"
    }
   ],
   "source": [
    "len(sentences)"
   ]
  },
  {
   "cell_type": "code",
   "execution_count": 5,
   "metadata": {},
   "outputs": [],
   "source": [
    "def get_bert_predictions(sentences):\n",
    "    start = time.time()\n",
    "    \n",
    "    predictions = []\n",
    "    \n",
    "    for sentence in sentences:\n",
    "        predictions.append(bert.predict(sentence)[1])\n",
    "    \n",
    "    time_spent = time.time()-start\n",
    "    \n",
    "    return predictions, time_spent"
   ]
  },
  {
   "cell_type": "code",
   "execution_count": 6,
   "metadata": {},
   "outputs": [],
   "source": [
    "def get_flair_predictions(sentences):\n",
    "    start = time.time()\n",
    "    \n",
    "    predictions = []\n",
    "    \n",
    "    flair_sentences = []\n",
    "    for sentence in sentences:\n",
    "        flair_sentence = Sentence()\n",
    "        for token in sentence:\n",
    "            flair_sentence.add_token(Token(token))\n",
    "        flair_sentences.append(flair_sentence)\n",
    "    flair.predict(flair_sentences)\n",
    "    \n",
    "    for s in flair_sentences:\n",
    "        predicted_categories = []\n",
    "        for t in s:\n",
    "            predicted_categories.append(t.tags['ner'].value)\n",
    "        predictions.append(predicted_categories)\n",
    "    \n",
    "    time_spent = time.time()-start\n",
    "    \n",
    "    return predictions, time_spent"
   ]
  },
  {
   "cell_type": "code",
   "execution_count": 7,
   "metadata": {},
   "outputs": [
    {
     "name": "stdout",
     "output_type": "stream",
     "text": [
      "slicer/stop: 12/5512\n"
     ]
    },
    {
     "name": "stderr",
     "output_type": "stream",
     "text": [
      "/Users/jorgentaule/.pyenv/versions/anaconda3-5.3.1/lib/python3.7/site-packages/flair/embeddings.py:355: UserWarning: The given NumPy array is not writeable, and PyTorch does not support non-writeable tensors. This means you can write to the underlying (supposedly non-writeable) NumPy array using the tensor. You may want to copy the array to protect its data or make it writeable before converting it to a tensor. This type of warning will be suppressed for the rest of this program. (Triggered internally at  ../torch/csrc/utils/tensor_numpy.cpp:141.)\n",
      "  word_embedding, device=flair.device, dtype=torch.float\n"
     ]
    },
    {
     "name": "stdout",
     "output_type": "stream",
     "text": [
      "slicer/stop: 62/5512\n",
      "slicer/stop: 112/5512\n",
      "slicer/stop: 162/5512\n",
      "slicer/stop: 212/5512\n",
      "slicer/stop: 262/5512\n",
      "slicer/stop: 312/5512\n",
      "slicer/stop: 362/5512\n",
      "slicer/stop: 412/5512\n",
      "slicer/stop: 462/5512\n",
      "slicer/stop: 512/5512\n",
      "slicer/stop: 562/5512\n",
      "slicer/stop: 612/5512\n",
      "slicer/stop: 662/5512\n",
      "slicer/stop: 712/5512\n",
      "slicer/stop: 762/5512\n",
      "slicer/stop: 812/5512\n",
      "slicer/stop: 862/5512\n",
      "slicer/stop: 912/5512\n",
      "slicer/stop: 962/5512\n",
      "slicer/stop: 1012/5512\n",
      "slicer/stop: 1062/5512\n",
      "slicer/stop: 1112/5512\n",
      "slicer/stop: 1162/5512\n",
      "slicer/stop: 1212/5512\n",
      "slicer/stop: 1262/5512\n",
      "slicer/stop: 1312/5512\n",
      "slicer/stop: 1362/5512\n",
      "slicer/stop: 1412/5512\n",
      "slicer/stop: 1462/5512\n",
      "slicer/stop: 1512/5512\n",
      "slicer/stop: 1562/5512\n",
      "slicer/stop: 1612/5512\n",
      "slicer/stop: 1662/5512\n",
      "slicer/stop: 1712/5512\n",
      "slicer/stop: 1762/5512\n",
      "slicer/stop: 1812/5512\n",
      "slicer/stop: 1862/5512\n",
      "slicer/stop: 1912/5512\n",
      "slicer/stop: 1962/5512\n",
      "slicer/stop: 2012/5512\n",
      "slicer/stop: 2062/5512\n",
      "slicer/stop: 2112/5512\n",
      "slicer/stop: 2162/5512\n",
      "slicer/stop: 2212/5512\n",
      "slicer/stop: 2262/5512\n",
      "slicer/stop: 2312/5512\n",
      "slicer/stop: 2362/5512\n",
      "slicer/stop: 2412/5512\n",
      "slicer/stop: 2462/5512\n",
      "slicer/stop: 2512/5512\n",
      "slicer/stop: 2562/5512\n",
      "slicer/stop: 2612/5512\n",
      "slicer/stop: 2662/5512\n",
      "slicer/stop: 2712/5512\n",
      "slicer/stop: 2762/5512\n",
      "slicer/stop: 2812/5512\n",
      "slicer/stop: 2862/5512\n",
      "slicer/stop: 2912/5512\n",
      "slicer/stop: 2962/5512\n",
      "slicer/stop: 3012/5512\n",
      "slicer/stop: 3062/5512\n",
      "slicer/stop: 3112/5512\n",
      "slicer/stop: 3162/5512\n",
      "slicer/stop: 3212/5512\n",
      "slicer/stop: 3262/5512\n",
      "slicer/stop: 3312/5512\n",
      "slicer/stop: 3362/5512\n",
      "slicer/stop: 3412/5512\n",
      "slicer/stop: 3462/5512\n",
      "slicer/stop: 3512/5512\n",
      "slicer/stop: 3562/5512\n",
      "slicer/stop: 3612/5512\n",
      "slicer/stop: 3662/5512\n",
      "slicer/stop: 3712/5512\n",
      "slicer/stop: 3762/5512\n",
      "slicer/stop: 3812/5512\n",
      "slicer/stop: 3862/5512\n",
      "slicer/stop: 3912/5512\n",
      "slicer/stop: 3962/5512\n",
      "slicer/stop: 4012/5512\n",
      "slicer/stop: 4062/5512\n",
      "slicer/stop: 4112/5512\n",
      "slicer/stop: 4162/5512\n",
      "slicer/stop: 4212/5512\n",
      "slicer/stop: 4262/5512\n",
      "slicer/stop: 4312/5512\n",
      "slicer/stop: 4362/5512\n",
      "slicer/stop: 4412/5512\n",
      "slicer/stop: 4462/5512\n",
      "slicer/stop: 4512/5512\n",
      "slicer/stop: 4562/5512\n",
      "slicer/stop: 4612/5512\n",
      "slicer/stop: 4662/5512\n",
      "slicer/stop: 4712/5512\n",
      "slicer/stop: 4762/5512\n",
      "slicer/stop: 4812/5512\n",
      "slicer/stop: 4862/5512\n",
      "slicer/stop: 4912/5512\n",
      "slicer/stop: 4962/5512\n",
      "slicer/stop: 5012/5512\n",
      "slicer/stop: 5062/5512\n",
      "slicer/stop: 5112/5512\n",
      "slicer/stop: 5162/5512\n",
      "slicer/stop: 5212/5512\n",
      "slicer/stop: 5262/5512\n",
      "slicer/stop: 5312/5512\n",
      "slicer/stop: 5362/5512\n",
      "slicer/stop: 5412/5512\n",
      "slicer/stop: 5462/5512\n",
      "slicer/stop: 5512/5512\n",
      "[12, 62, 112, 162, 212, 262, 312, 362, 412, 462, 512, 562, 612, 662, 712, 762, 812, 862, 912, 962, 1012, 1062, 1112, 1162, 1212, 1262, 1312, 1362, 1412, 1462, 1512, 1562, 1612, 1662, 1712, 1762, 1812, 1862, 1912, 1962, 2012, 2062, 2112, 2162, 2212, 2262, 2312, 2362, 2412, 2462, 2512, 2562, 2612, 2662, 2712, 2762, 2812, 2862, 2912, 2962, 3012, 3062, 3112, 3162, 3212, 3262, 3312, 3362, 3412, 3462, 3512, 3562, 3612, 3662, 3712, 3762, 3812, 3862, 3912, 3962, 4012, 4062, 4112, 4162, 4212, 4262, 4312, 4362, 4412, 4462, 4512, 4562, 4612, 4662, 4712, 4762, 4812, 4862, 4912, 4962, 5012, 5062, 5112, 5162, 5212, 5262, 5312, 5362, 5412, 5462, 5512]\n",
      "[222, 1093, 1900, 2916, 3712, 4525, 5392, 6207, 6972, 7772, 8556, 9394, 10242, 11144, 11986, 12847, 13774, 14668, 15679, 16551, 17468, 18498, 19364, 20294, 21305, 22300, 23155, 23949, 24924, 25944, 26871, 27809, 28734, 29800, 30794, 31686, 32642, 33644, 34700, 35586, 36424, 37339, 38224, 39105, 40036, 40906, 41754, 42744, 43565, 44403, 45279, 46167, 47135, 48093, 49071, 50109, 50932, 51887, 52870, 53736, 54745, 55670, 56501, 57383, 58283, 59087, 59974, 60894, 61847, 62806, 63777, 64640, 65592, 66608, 67589, 68715, 69683, 70633, 71623, 72572, 73449, 74423, 75244, 76223, 77184, 78021, 79079, 79957, 80892, 81826, 82878, 83897, 84763, 85505, 86379, 87353, 88342, 89172, 90199, 90928, 91774, 92550, 93527, 94551, 95507, 96468, 97319, 98136, 99006, 99871, 100733]\n",
      "[2.1998958587646484, 4.1993567943573, 5.822866916656494, 8.07853889465332, 9.884092807769775, 11.938822031021118, 14.171803951263428, 15.825536966323853, 17.722687005996704, 19.21744203567505, 20.985421180725098, 23.151549816131592, 25.293850898742676, 27.150854349136353, 29.4374897480011, 31.40364408493042, 34.563251972198486, 37.80993103981018, 39.18971490859985, 41.17839002609253, 43.56152892112732, 44.99216985702515, 47.59994077682495, 50.16064381599426, 51.99329876899719, 53.71152114868164, 57.329445123672485, 57.55196976661682, 59.986371994018555, 62.68891406059265, 64.79529595375061, 67.84912014007568, 70.35399508476257, 71.97820997238159, 74.21984815597534, 76.83759999275208, 79.59687995910645, 81.72561001777649, 83.5776720046997, 89.73597502708435, 87.54489398002625, 91.2010440826416, 92.16665291786194, 93.92078113555908, 96.4779679775238, 98.59056210517883, 212.99331092834473, 144.1249132156372, 122.43454790115356, 105.85385990142822, 109.02105903625488, 109.2908411026001, 111.6245288848877, 114.1532289981842, 116.5072500705719, 120.5426230430603, 120.62808012962341, 123.88671326637268, 129.0917570590973, 128.3468542098999, 130.07858085632324, 132.2028181552887, 133.76097893714905, 135.0516140460968, 139.10950183868408, 138.71978521347046, 142.03673887252808, 143.9389476776123, 146.44008111953735, 148.14148020744324, 151.6256558895111, 152.93760633468628, 155.78191494941711, 160.68342995643616, 165.00845909118652, 164.22124576568604, 168.58124995231628, 169.56301403045654, 171.57428002357483, 174.27122592926025, 192.9200780391693, 178.9010808467865, 180.6490728855133, 183.16903400421143, 186.58246088027954, 188.14349627494812, 189.55879616737366, 193.9274890422821, 194.38984084129333, 195.02213406562805, 198.31714010238647, 201.38959908485413, 203.37273812294006, 205.30356979370117, 206.43310618400574, 207.0949718952179, 210.3166880607605, 214.6137821674347, 218.55189895629883, 217.41629695892334, 217.65652298927307, 221.91599416732788, 223.9397451877594, 224.53065395355225, 227.38157296180725, 229.47962284088135, 231.01969504356384, 234.75148582458496, 234.62254691123962, 238.23829293251038, 239.7661440372467]\n",
      "[2.2206499576568604, 6.276822805404663, 10.732646942138672, 17.64819312095642, 19.055935859680176, 24.044406175613403, 28.267273902893066, 32.40387201309204, 37.404534101486206, 40.60225486755371, 44.79660105705261, 50.1648428440094, 53.3728711605072, 59.5444438457489, 62.81436491012573, 68.31766605377197, 71.73593401908875, 79.77952480316162, 81.74870610237122, 85.80828380584717, 89.37144088745117, 94.43031001091003, 100.49591588973999, 103.53125, 108.71110582351685, 113.92998504638672, 118.35668301582336, 121.1024239063263, 126.6290590763092, 133.04354405403137, 136.17131900787354, 140.57347297668457, 148.3885612487793, 149.92864394187927, 155.12676095962524, 159.9969561100006, 167.33563804626465, 171.96293902397156, 173.8529658317566, 179.24311017990112, 183.04626417160034, 188.46467471122742, 191.75502800941467, 196.42801094055176, 202.2280991077423, 204.5154139995575, 210.5659840106964, 281.6329560279846, 293.34224915504456, 223.31302094459534, 227.89333391189575, 235.08871865272522, 239.56013107299805, 241.602774143219, 248.83140921592712, 251.70898413658142, 257.40231680870056, 265.869745016098, 266.31470584869385, 272.16874384880066, 275.4226818084717, 280.7145793437958, 283.34641885757446, 288.7538182735443, 291.6722948551178, 299.0424499511719, 300.91364884376526, 311.79690885543823, 313.4759428501129, 315.9646909236908, 322.3117628097534, 324.8099720478058, 333.71735191345215, 333.50618600845337, 340.4298040866852, 344.64609813690186, 348.4195291996002, 354.81298899650574, 358.82665491104126, 365.4870719909668, 387.5361249446869, 396.9061350822449, 377.42749285697937, 383.24746799468994, 386.61094093322754, 391.09100914001465, 397.09888911247253, 400.7094829082489, 406.10333800315857, 411.7767369747162, 413.76294112205505, 419.1175661087036, 423.92870593070984, 431.9422788619995, 434.73360109329224, 436.3475351333618, 442.48343205451965, 448.8517699241638, 451.98515796661377, 458.94570112228394, 461.4355721473694, 463.9976079463959, 467.86571979522705, 475.9221110343933, 489.9554817676544, 481.3183228969574, 489.6608600616455, 492.70811581611633, 500.4322118759155, 506.94390988349915, 511.4534442424774]\n"
     ]
    }
   ],
   "source": [
    "bert_times = []\n",
    "flair_times = []\n",
    "num_sentences = []\n",
    "num_tokens = []\n",
    "\n",
    "increment = 50\n",
    "stop = 5512 # For testing\n",
    "\n",
    "slicer = 12\n",
    "while slicer <= stop:\n",
    "    print(f'slicer/stop: {slicer}/{stop}')\n",
    "    bert_preds, bert_time_spent = get_bert_predictions(sentences[:slicer])\n",
    "    flair_preds, flair_time_spent = get_flair_predictions(sentences[:slicer])\n",
    "    \n",
    "    bert_times.append(bert_time_spent)\n",
    "    flair_times.append(flair_time_spent)\n",
    "    \n",
    "    num_sentences.append(len(bert_preds))\n",
    "    num_tokens.append(len([item for sublist in bert_preds for item in sublist]))\n",
    "    \n",
    "    slicer += increment\n",
    "\n",
    "print(num_sentences)\n",
    "print(num_tokens)\n",
    "print(flair_times)\n",
    "print(bert_times)"
   ]
  },
  {
   "cell_type": "code",
   "execution_count": 8,
   "metadata": {},
   "outputs": [],
   "source": [
    "from numpy import savetxt\n",
    "from datetime import datetime\n",
    "import os\n",
    "\n",
    "tag = datetime.now().strftime(\"%Y-%m-%d-%H-%M-%S\")\n",
    "\n",
    "os.makedirs(tag, exist_ok=True)\n",
    "\n",
    "savetxt(f'{tag}/num_sentences.csv', num_sentences, delimiter=',')\n",
    "savetxt(f'{tag}/num_tokens.csv', num_tokens, delimiter=',')\n",
    "savetxt(f'{tag}/flair_times.csv', flair_times, delimiter=',')\n",
    "savetxt(f'{tag}/bert_times.csv', bert_times, delimiter=',')"
   ]
  },
  {
   "cell_type": "markdown",
   "metadata": {},
   "source": [
    "## Plot results"
   ]
  },
  {
   "cell_type": "code",
   "execution_count": 11,
   "metadata": {},
   "outputs": [],
   "source": [
    "from numpy import loadtxt\n",
    "\n",
    "tag = '2021-01-09-08-47-03'\n",
    "\n",
    "num_sentences = loadtxt(f'{tag}/num_sentences.csv', delimiter=',')\n",
    "num_tokens = loadtxt(f'{tag}/num_tokens.csv', delimiter=',')\n",
    "flair_times = loadtxt(f'{tag}/flair_times.csv', delimiter=',')\n",
    "bert_times = loadtxt(f'{tag}/bert_times.csv', delimiter=',')"
   ]
  },
  {
   "cell_type": "code",
   "execution_count": 12,
   "metadata": {},
   "outputs": [
    {
     "data": {
      "text/plain": [
       "array([  12.,   62.,  112.,  162.,  212.,  262.,  312.,  362.,  412.,\n",
       "        462.,  512.,  562.,  612.,  662.,  712.,  762.,  812.,  862.,\n",
       "        912.,  962., 1012., 1062., 1112., 1162., 1212., 1262., 1312.,\n",
       "       1362., 1412., 1462., 1512., 1562., 1612., 1662., 1712., 1762.,\n",
       "       1812., 1862., 1912., 1962., 2012., 2062., 2112., 2162., 2212.,\n",
       "       2262., 2312., 2362., 2412., 2462., 2512., 2562., 2612., 2662.,\n",
       "       2712., 2762., 2812., 2862., 2912., 2962., 3012., 3062., 3112.,\n",
       "       3162., 3212., 3262., 3312., 3362., 3412., 3462., 3512., 3562.,\n",
       "       3612., 3662., 3712., 3762., 3812., 3862., 3912., 3962., 4012.,\n",
       "       4062., 4112., 4162., 4212., 4262., 4312., 4362., 4412., 4462.,\n",
       "       4512., 4562., 4612., 4662., 4712., 4762., 4812., 4862., 4912.,\n",
       "       4962., 5012., 5062., 5112., 5162., 5212., 5262., 5312., 5362.,\n",
       "       5412., 5462., 5512.])"
      ]
     },
     "execution_count": 12,
     "metadata": {},
     "output_type": "execute_result"
    }
   ],
   "source": [
    "num_sentences"
   ]
  },
  {
   "cell_type": "code",
   "execution_count": 14,
   "metadata": {},
   "outputs": [
    {
     "data": {
      "text/plain": [
       "array([   222.,   1093.,   1900.,   2916.,   3712.,   4525.,   5392.,\n",
       "         6207.,   6972.,   7772.,   8556.,   9394.,  10242.,  11144.,\n",
       "        11986.,  12847.,  13774.,  14668.,  15679.,  16551.,  17468.,\n",
       "        18498.,  19364.,  20294.,  21305.,  22300.,  23155.,  23949.,\n",
       "        24924.,  25944.,  26871.,  27809.,  28734.,  29800.,  30794.,\n",
       "        31686.,  32642.,  33644.,  34700.,  35586.,  36424.,  37339.,\n",
       "        38224.,  39105.,  40036.,  40906.,  41754.,  42744.,  43565.,\n",
       "        44403.,  45279.,  46167.,  47135.,  48093.,  49071.,  50109.,\n",
       "        50932.,  51887.,  52870.,  53736.,  54745.,  55670.,  56501.,\n",
       "        57383.,  58283.,  59087.,  59974.,  60894.,  61847.,  62806.,\n",
       "        63777.,  64640.,  65592.,  66608.,  67589.,  68715.,  69683.,\n",
       "        70633.,  71623.,  72572.,  73449.,  74423.,  75244.,  76223.,\n",
       "        77184.,  78021.,  79079.,  79957.,  80892.,  81826.,  82878.,\n",
       "        83897.,  84763.,  85505.,  86379.,  87353.,  88342.,  89172.,\n",
       "        90199.,  90928.,  91774.,  92550.,  93527.,  94551.,  95507.,\n",
       "        96468.,  97319.,  98136.,  99006.,  99871., 100733.])"
      ]
     },
     "execution_count": 14,
     "metadata": {},
     "output_type": "execute_result"
    }
   ],
   "source": [
    "num_tokens"
   ]
  },
  {
   "cell_type": "code",
   "execution_count": 15,
   "metadata": {},
   "outputs": [],
   "source": [
    "import matplotlib.pyplot as plt"
   ]
  },
  {
   "cell_type": "code",
   "execution_count": 16,
   "metadata": {},
   "outputs": [
    {
     "data": {
      "text/plain": [
       "[<matplotlib.lines.Line2D at 0x7ffa0bb61c88>]"
      ]
     },
     "execution_count": 16,
     "metadata": {},
     "output_type": "execute_result"
    },
    {
     "data": {
      "image/png": "[encoded data removed]",
      "text/plain": [
       "<Figure size 432x288 with 1 Axes>"
      ]
     },
     "metadata": {
      "needs_background": "light"
     },
     "output_type": "display_data"
    }
   ],
   "source": [
    "plt.plot(num_sentences, flair_times)"
   ]
  },
  {
   "cell_type": "code",
   "execution_count": 18,
   "metadata": {},
   "outputs": [
    {
     "data": {
      "text/plain": [
       "[<matplotlib.lines.Line2D at 0x7ffa3205d7b8>]"
      ]
     },
     "execution_count": 18,
     "metadata": {},
     "output_type": "execute_result"
    },
    {
     "data": {
      "image/png": "[encoded data removed]",
      "text/plain": [
       "<Figure size 432x288 with 1 Axes>"
      ]
     },
     "metadata": {
      "needs_background": "light"
     },
     "output_type": "display_data"
    }
   ],
   "source": [
    "plt.plot(num_sentences, bert_times)"
   ]
  },
  {
   "cell_type": "code",
   "execution_count": 19,
   "metadata": {},
   "outputs": [
    {
     "data": {
      "text/plain": [
       "[<matplotlib.lines.Line2D at 0x7ffa41c754a8>]"
      ]
     },
     "execution_count": 19,
     "metadata": {},
     "output_type": "execute_result"
    },
    {
     "data": {
      "image/png": "[encoded data removed]",
      "text/plain": [
       "<Figure size 432x288 with 1 Axes>"
      ]
     },
     "metadata": {
      "needs_background": "light"
     },
     "output_type": "display_data"
    }
   ],
   "source": [
    "plt.plot(num_tokens, flair_times)"
   ]
  },
  {
   "cell_type": "code",
   "execution_count": 20,
   "metadata": {},
   "outputs": [
    {
     "data": {
      "text/plain": [
       "[<matplotlib.lines.Line2D at 0x7ffa413db048>]"
      ]
     },
     "execution_count": 20,
     "metadata": {},
     "output_type": "execute_result"
    },
    {
     "data": {
      "image/png": "[encoded data removed]",
      "text/plain": [
       "<Figure size 432x288 with 1 Axes>"
      ]
     },
     "metadata": {
      "needs_background": "light"
     },
     "output_type": "display_data"
    }
   ],
   "source": [
    "plt.plot(num_tokens, bert_times)"
   ]
  },
  {
   "cell_type": "code",
   "execution_count": null,
   "metadata": {},
   "outputs": [],
   "source": []
  }
 ],
 "metadata": {
  "kernelspec": {
   "display_name": "Python 3",
   "language": "python",
   "name": "python3"
  },
  "language_info": {
   "codemirror_mode": {
    "name": "ipython",
    "version": 3
   },
   "file_extension": ".py",
   "mimetype": "text/x-python",
   "name": "python",
   "nbconvert_exporter": "python",
   "pygments_lexer": "ipython3",
   "version": "3.7.3"
  }
 },
 "nbformat": 4,
 "nbformat_minor": 2
}
